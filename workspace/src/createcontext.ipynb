{
  "nbformat": 4,
  "nbformat_minor": 0,
  "metadata": {
    "colab": {
      "provenance": []
    },
    "kernelspec": {
      "name": "python3",
      "display_name": "Python 3"
    },
    "language_info": {
      "name": "python"
    }
  },
  "cells": [
    {
      "cell_type": "markdown",
      "source": [
        "# Setup"
      ],
      "metadata": {
        "id": "xsi2ODDoJQEb"
      }
    },
    {
      "cell_type": "code",
      "execution_count": null,
      "metadata": {
        "id": "KQHmdXDeJB_E"
      },
      "outputs": [],
      "source": [
        "import logging\n",
        "import os\n",
        "import sys\n",
        "\n",
        "\n",
        "logging.basicConfig(stream=sys.stdout, level=logging.INFO, force=True)\n",
        "logging.getLogger().addHandler(logging.StreamHandler(stream=sys.stdout))"
      ]
    },
    {
      "cell_type": "code",
      "source": [
        "RESOURCES_DIR = \"../resources\"\n",
        "\n",
        "# <URL_CSVFILE> に 読み込みたいcsvfile名を指定\n",
        "CSV_PATH = os.path.join(RESOURCES_DIR, \"help_url\", <URL_CSVFILE>)\n",
        "\n",
        "# 作成した doc, index, vector を書き込みためのパス\n",
        "CONTEXT_DIR =  os.path.join(RESOURCES_DIR, \"context\")"
      ],
      "metadata": {
        "id": "_0xtft1lJFTI"
      },
      "execution_count": null,
      "outputs": []
    },
    {
      "cell_type": "markdown",
      "source": [
        "# Generate Context"
      ],
      "metadata": {
        "id": "msPr_wg5JT97"
      }
    },
    {
      "cell_type": "code",
      "source": [
        "import csv\n",
        "\n",
        "from llama_index import GPTVectorStoreIndex, SimpleWebPageReader\n",
        "from llama_index.indices.service_context import ServiceContext\n",
        "from llama_index.llm_predictor.chatgpt import ChatGPTLLMPredictor\n",
        "\n",
        "\n",
        "article_urls = []\n",
        "with open(CSV_PATH) as f:\n",
        "    reader = csv.reader(f)\n",
        "    for row in reader:\n",
        "        article_urls.append(row[0])\n",
        "\n",
        "documents = SimpleWebPageReader().load_data(article_urls)\n",
        "service_context = ServiceContext.from_defaults(llm_predictor=ChatGPTLLMPredictor())\n",
        "index = GPTVectorStoreIndex.from_documents(documents=documents, service_context=service_context)"
      ],
      "metadata": {
        "id": "cXVgrP4pJHny"
      },
      "execution_count": null,
      "outputs": []
    },
    {
      "cell_type": "markdown",
      "source": [
        "# Sace Context"
      ],
      "metadata": {
        "id": "iV5pGFQLJLo3"
      }
    },
    {
      "cell_type": "code",
      "source": [
        "index.storage_context.persist(persist_dir=CONTEXT_DIR)"
      ],
      "metadata": {
        "id": "SiyEHDJnJJvh"
      },
      "execution_count": null,
      "outputs": []
    }
  ]
}