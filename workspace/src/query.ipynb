{
  "nbformat": 4,
  "nbformat_minor": 0,
  "metadata": {
    "colab": {
      "provenance": []
    },
    "kernelspec": {
      "name": "python3",
      "display_name": "Python 3"
    },
    "language_info": {
      "name": "python"
    }
  },
  "cells": [
    {
      "cell_type": "markdown",
      "source": [
        "# Setup"
      ],
      "metadata": {
        "id": "Cv8IdrVIJlxO"
      }
    },
    {
      "cell_type": "code",
      "execution_count": null,
      "metadata": {
        "id": "hEp4OkI8I4st"
      },
      "outputs": [],
      "source": [
        "import logging\n",
        "import os\n",
        "import sys\n",
        "\n",
        "\n",
        "logging.basicConfig(stream=sys.stdout, level=logging.INFO, force=True)\n",
        "logging.getLogger().addHandler(logging.StreamHandler(stream=sys.stdout))"
      ]
    },
    {
      "cell_type": "code",
      "source": [
        "RESOURCES_DIR = \"../resources\"\n",
        "CONTEXT_DIR =  os.path.join(RESOURCES_DIR, \"context\")"
      ],
      "metadata": {
        "id": "DCBkft_dJuWp"
      },
      "execution_count": null,
      "outputs": []
    },
    {
      "cell_type": "markdown",
      "source": [
        "# Load Context"
      ],
      "metadata": {
        "id": "9n9jrC-6I5gq"
      }
    },
    {
      "cell_type": "code",
      "source": [
        "from llama_index import StorageContext\n",
        "from llama_index.storage.docstore import SimpleDocumentStore\n",
        "from llama_index.storage.index_store import SimpleIndexStore\n",
        "from llama_index.vector_stores import SimpleVectorStore\n",
        "\n",
        "\n",
        "storage_context = StorageContext.from_defaults(\n",
        "    docstore=SimpleDocumentStore.from_persist_dir(persist_dir=CONTEXT_DIR),\n",
        "    vector_store=SimpleVectorStore.from_persist_dir(persist_dir=CONTEXT_DIR),\n",
        "    index_store=SimpleIndexStore.from_persist_dir(persist_dir=CONTEXT_DIR)\n",
        ")"
      ],
      "metadata": {
        "id": "xtz-RWxHJpvy"
      },
      "execution_count": null,
      "outputs": []
    },
    {
      "cell_type": "code",
      "source": [
        "from llama_index import load_index_from_storage\n",
        "\n",
        "\n",
        "index = load_index_from_storage(storage_context)"
      ],
      "metadata": {
        "id": "y2TtWuHKJyWq"
      },
      "execution_count": null,
      "outputs": []
    },
    {
      "cell_type": "markdown",
      "source": [
        "# Query"
      ],
      "metadata": {
        "id": "8zNF2NBdJqKf"
      }
    },
    {
      "cell_type": "code",
      "source": [
        "query_engine = index.as_query_engine()"
      ],
      "metadata": {
        "id": "We-d5HdEJrg_"
      },
      "execution_count": null,
      "outputs": []
    },
    {
      "cell_type": "code",
      "source": [
        "question = \"Please tell me about DataSpider Servista within the 100 words or less.\"\n",
        "response = query_engine.query(question)"
      ],
      "metadata": {
        "id": "yMcjJ2qMJ1Hg"
      },
      "execution_count": null,
      "outputs": []
    },
    {
      "cell_type": "code",
      "source": [
        "print(response.response)"
      ],
      "metadata": {
        "id": "Mcel9k2UJ1En"
      },
      "execution_count": null,
      "outputs": []
    }
  ]
}